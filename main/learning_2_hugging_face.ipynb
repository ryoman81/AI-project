{
 "cells": [
  {
   "cell_type": "code",
   "execution_count": 2,
   "id": "f42b6134",
   "metadata": {},
   "outputs": [],
   "source": [
    "from transformers import pipeline"
   ]
  },
  {
   "cell_type": "code",
   "execution_count": 3,
   "id": "4bfe9e88",
   "metadata": {},
   "outputs": [
    {
     "name": "stderr",
     "output_type": "stream",
     "text": [
      "Device set to use mps\n",
      "Truncation was not explicitly activated but `max_length` is provided a specific value, please use `truncation=True` to explicitly truncate examples to max length. Defaulting to 'longest_first' truncation strategy. If you encode pairs of sequences (GLUE-style) with the tokenizer you can select this strategy more precisely by providing a specific strategy to `truncation`.\n",
      "Setting `pad_token_id` to `eos_token_id`:50256 for open-end generation.\n"
     ]
    },
    {
     "name": "stdout",
     "output_type": "stream",
     "text": [
      "[{'generated_text': 'The future of AI is uncertain, but there are lots of bright ideas coming out of universities that could change the world for the better.\\n\\nThe'}]\n"
     ]
    }
   ],
   "source": [
    "# 🧠 Text Generation (GPT-2)\n",
    "generator = pipeline(\"text-generation\", model=\"gpt2\", device=\"mps\")\n",
    "print(generator(\"The future of AI is\", max_length=30, num_return_sequences=1))"
   ]
  },
  {
   "cell_type": "code",
   "execution_count": null,
   "id": "f338a13c",
   "metadata": {},
   "outputs": [],
   "source": [
    "# # 📊 Text Classification (BERT)\n",
    "# classifier = pipeline(\"sentiment-analysis\")\n",
    "# print(classifier(\"I love working with Hugging Face! Fuck!!\"))"
   ]
  },
  {
   "cell_type": "code",
   "execution_count": null,
   "id": "7773a45e",
   "metadata": {},
   "outputs": [],
   "source": [
    "# # 📰 Text Summarization (BART)\n",
    "# summarizer = pipeline(\"summarization\", model=\"facebook/bart-large-cnn\")\n",
    "# article = \"\"\"\n",
    "# Machine learning is a field of computer science that gives computers the ability to learn without being explicitly programmed. \n",
    "# It has become one of the most important technologies in recent years, with applications in many industries.\n",
    "# \"\"\"\n",
    "# print(summarizer(article, max_length=40, min_length=10, do_sample=False))"
   ]
  },
  {
   "cell_type": "code",
   "execution_count": 13,
   "id": "21f078e5",
   "metadata": {},
   "outputs": [
    {
     "name": "stdout",
     "output_type": "stream",
     "text": [
      "Using device: mps\n",
      "A yellow man is _______\n",
      "\n",
      "\"This is the one who can be trusted,\" says the man.\n",
      "\n",
      "The man is a man called\n"
     ]
    }
   ],
   "source": [
    "from transformers import AutoTokenizer, AutoModelForCausalLM\n",
    "import torch\n",
    "\n",
    "device = torch.device(\"mps\" if torch.backends.mps.is_built() else \"cpu\")\n",
    "print(\"Using device:\", device)\n",
    "\n",
    "# 1. 加载 tokenizer 和模型（使用本地缓存）\n",
    "model_id = \"gpt2\"\n",
    "tokenizer = AutoTokenizer.from_pretrained(model_id)\n",
    "model = AutoModelForCausalLM.from_pretrained(model_id)\n",
    "\n",
    "model.to(device)\n",
    "\n",
    "# 2. 输入文本\n",
    "prompt = \"A yellow man is \"\n",
    "inputs = tokenizer(prompt, return_tensors=\"pt\").to(device)\n",
    "\n",
    "# 3. 文本生成（设置最大长度、温度等超参）\n",
    "with torch.no_grad():\n",
    "    outputs = model.generate(\n",
    "        **inputs,\n",
    "        max_length=30,\n",
    "        num_return_sequences=1,\n",
    "        temperature=0.8,\n",
    "        top_k=50,\n",
    "        top_p=0.95,\n",
    "        do_sample=True,\n",
    "        pad_token_id=tokenizer.eos_token_id\n",
    "    )\n",
    "\n",
    "# 4. 解码输出\n",
    "generated_text = tokenizer.decode(outputs[0], skip_special_tokens=True)\n",
    "print(generated_text)\n"
   ]
  },
  {
   "cell_type": "code",
   "execution_count": null,
   "id": "388be140",
   "metadata": {},
   "outputs": [],
   "source": []
  }
 ],
 "metadata": {
  "kernelspec": {
   "display_name": "llm-lab",
   "language": "python",
   "name": "python3"
  },
  "language_info": {
   "codemirror_mode": {
    "name": "ipython",
    "version": 3
   },
   "file_extension": ".py",
   "mimetype": "text/x-python",
   "name": "python",
   "nbconvert_exporter": "python",
   "pygments_lexer": "ipython3",
   "version": "3.10.16"
  }
 },
 "nbformat": 4,
 "nbformat_minor": 5
}
