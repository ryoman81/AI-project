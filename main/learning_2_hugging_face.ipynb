{
 "cells": [
  {
   "cell_type": "code",
   "execution_count": null,
   "id": "f42b6134",
   "metadata": {},
   "outputs": [],
   "source": [
    "from transformers import pipeline"
   ]
  },
  {
   "cell_type": "code",
   "execution_count": null,
   "id": "4bfe9e88",
   "metadata": {},
   "outputs": [],
   "source": [
    "# 🧠 Text Generation (GPT-2)\n",
    "generator = pipeline(\"text-generation\", model=\"gpt2\", device=\"mps\")\n",
    "print(generator(\"The future of AI is\", max_length=30, num_return_sequences=1))"
   ]
  },
  {
   "cell_type": "code",
   "execution_count": null,
   "id": "739bca79",
   "metadata": {},
   "outputs": [],
   "source": []
  },
  {
   "cell_type": "code",
   "execution_count": null,
   "id": "87830197",
   "metadata": {},
   "outputs": [],
   "source": []
  },
  {
   "cell_type": "code",
   "execution_count": null,
   "id": "e1881a39",
   "metadata": {},
   "outputs": [],
   "source": []
  },
  {
   "cell_type": "code",
   "execution_count": null,
   "id": "f338a13c",
   "metadata": {},
   "outputs": [],
   "source": [
    "# # 📊 Text Classification (BERT)\n",
    "# classifier = pipeline(\"sentiment-analysis\")\n",
    "# print(classifier(\"I love working with Hugging Face! Fuck!!\"))"
   ]
  },
  {
   "cell_type": "code",
   "execution_count": null,
   "id": "7773a45e",
   "metadata": {},
   "outputs": [],
   "source": [
    "# # 📰 Text Summarization (BART)\n",
    "# summarizer = pipeline(\"summarization\", model=\"facebook/bart-large-cnn\")\n",
    "# article = \"\"\"\n",
    "# Machine learning is a field of computer science that gives computers the ability to learn without being explicitly programmed. \n",
    "# It has become one of the most important technologies in recent years, with applications in many industries.\n",
    "# \"\"\"\n",
    "# print(summarizer(article, max_length=40, min_length=10, do_sample=False))"
   ]
  }
 ],
 "metadata": {
  "kernelspec": {
   "display_name": "llm-lab",
   "language": "python",
   "name": "python3"
  },
  "language_info": {
   "codemirror_mode": {
    "name": "ipython",
    "version": 3
   },
   "file_extension": ".py",
   "mimetype": "text/x-python",
   "name": "python",
   "nbconvert_exporter": "python",
   "pygments_lexer": "ipython3",
   "version": "3.10.16"
  }
 },
 "nbformat": 4,
 "nbformat_minor": 5
}
