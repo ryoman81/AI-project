{
 "cells": [
  {
   "cell_type": "code",
   "execution_count": null,
   "id": "ecc2689b",
   "metadata": {},
   "outputs": [],
   "source": [
    "import sys\n",
    "import os\n",
    "\n",
    "sys.path.append(os.path.abspath(os.path.join(os.getcwd(), '..')))"
   ]
  },
  {
   "cell_type": "code",
   "execution_count": null,
   "id": "1f2a0587",
   "metadata": {},
   "outputs": [],
   "source": [
    "from app.embedder import Embedder\n",
    "\n",
    "texts = [\"The sky is blue.\", \"RAG is a powerful technique for LLMs.\"]\n",
    "embedder = Embedder()\n",
    "vectors = embedder.embed_texts(texts)\n",
    "print(vectors[0])"
   ]
  },
  {
   "cell_type": "code",
   "execution_count": null,
   "id": "3b0a7708",
   "metadata": {},
   "outputs": [],
   "source": [
    "from app.vector_store import VectorStore\n",
    "import numpy as np\n",
    "\n",
    "vector_store = VectorStore(8)\n",
    "\n",
    "test_embedding = np.array([0.1, 0.2, 0.3, 0.4, 0.5, 0.6, 0.7, 0.8])\n",
    "vector_store.add_documents([test_embedding], [\"test_id\"])\n",
    "\n",
    "test_retrieval = vector_store.search(np.array([0.1, 0.2, 0.3, 0.4, 0.5, 0.6,0.2, 0.4]), 1)\n",
    "\n",
    "print(test_retrieval)"
   ]
  },
  {
   "cell_type": "code",
   "execution_count": null,
   "id": "8c9d3076",
   "metadata": {},
   "outputs": [],
   "source": [
    "from app.generator import AnswerGenerator\n",
    "\n",
    "generator = AnswerGenerator()\n",
    "question = \"What is the capital of France?\"\n",
    "answer = generator.generate_answer(question, context_documents=[])\n",
    "print(answer)"
   ]
  },
  {
   "cell_type": "code",
   "execution_count": null,
   "id": "73c593de",
   "metadata": {},
   "outputs": [],
   "source": []
  }
 ],
 "metadata": {
  "kernelspec": {
   "display_name": "llm-lab",
   "language": "python",
   "name": "python3"
  },
  "language_info": {
   "codemirror_mode": {
    "name": "ipython",
    "version": 3
   },
   "file_extension": ".py",
   "mimetype": "text/x-python",
   "name": "python",
   "nbconvert_exporter": "python",
   "pygments_lexer": "ipython3",
   "version": "3.10.16"
  }
 },
 "nbformat": 4,
 "nbformat_minor": 5
}
