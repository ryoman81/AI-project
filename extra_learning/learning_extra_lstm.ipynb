{
 "cells": [
  {
   "cell_type": "markdown",
   "id": "aad0f64c",
   "metadata": {},
   "source": [
    "# Simple Long Short-Term Memory (LSTM) Example with PyTorch\n",
    "This notebook introduces the fundamental concepts of Long Short-Term Memory (LSTM) networks and demonstrates a minimal LSTM model using PyTorch. The example is suitable for beginners and includes detailed explanations."
   ]
  },
  {
   "cell_type": "markdown",
   "id": "ae7f03a4",
   "metadata": {},
   "source": [
    "## What is an LSTM?\n",
    "LSTM is a type of Recurrent Neural Network (RNN) designed to better capture long-term dependencies in sequential data. It uses special gating mechanisms to control the flow of information and mitigate the vanishing gradient problem.\n",
    "\n",
    "Key concepts:\n",
    "- **Cell State**: Memory that runs through the entire sequence.\n",
    "- **Gates**: Structures that regulate the addition or removal of information (input, forget, output gates).\n",
    "- **Hidden State**: Output at each time step.\n",
    "- **Input/Output**: Data at each time step and the model's prediction."
   ]
  },
  {
   "cell_type": "markdown",
   "id": "c52059b2",
   "metadata": {},
   "source": [
    "## Minimal LSTM Example: Sequence Classification\n",
    "We will use a simple LSTM to classify sequences. For demonstration, we use random data."
   ]
  },
  {
   "cell_type": "code",
   "execution_count": 1,
   "id": "52a80c07",
   "metadata": {},
   "outputs": [],
   "source": [
    "import torch\n",
    "import torch.nn as nn\n",
    "\n",
    "# Define a simple LSTM model\n",
    "class SimpleLSTM(nn.Module):\n",
    "    def __init__(self, input_size, hidden_size, output_size):\n",
    "        super().__init__()\n",
    "        self.lstm = nn.LSTM(input_size, hidden_size, batch_first=True)\n",
    "        self.fc = nn.Linear(hidden_size, output_size)\n",
    "    def forward(self, x):\n",
    "        # x: (batch_size, seq_len, input_size)\n",
    "        out, (h_n, c_n) = self.lstm(x)  # out: (batch_size, seq_len, hidden_size)\n",
    "        out = out[:, -1, :]             # Take the output at the last time step\n",
    "        out = self.fc(out)              # (batch_size, output_size)\n",
    "        return out"
   ]
  },
  {
   "cell_type": "markdown",
   "id": "ff629c22",
   "metadata": {},
   "source": [
    "## Build the Model and Generate Random Input\n",
    "We will create a model instance and use a randomly generated tensor to simulate a batch of sequences."
   ]
  },
  {
   "cell_type": "code",
   "execution_count": 2,
   "id": "52f892cf",
   "metadata": {},
   "outputs": [],
   "source": [
    "# Model parameters\n",
    "input_size = 5   # Number of features per time step\n",
    "hidden_size = 8  # Size of the LSTM hidden state\n",
    "output_size = 2  # Number of classes\n",
    "seq_len = 7      # Length of each sequence\n",
    "batch_size = 3   # Number of sequences in a batch\n",
    "\n",
    "# Create model instance\n",
    "model = SimpleLSTM(input_size, hidden_size, output_size)\n",
    "\n",
    "# Randomly generate a batch of input data\n",
    "x = torch.randn(batch_size, seq_len, input_size)"
   ]
  },
  {
   "cell_type": "markdown",
   "id": "65f96af4",
   "metadata": {},
   "source": [
    "## Forward Pass\n",
    "Feed the input data into the model to get the output."
   ]
  },
  {
   "cell_type": "code",
   "execution_count": 3,
   "id": "f7616a55",
   "metadata": {},
   "outputs": [
    {
     "name": "stdout",
     "output_type": "stream",
     "text": [
      "Output shape: torch.Size([3, 2])\n",
      "Output content:\n",
      " tensor([[-0.1592,  0.2306],\n",
      "        [-0.1746,  0.1796],\n",
      "        [-0.1921,  0.2100]], grad_fn=<AddmmBackward0>)\n"
     ]
    }
   ],
   "source": [
    "# Forward pass\n",
    "output = model(x)\n",
    "print(\"Output shape:\", output.shape)\n",
    "print(\"Output content:\\n\", output)"
   ]
  },
  {
   "cell_type": "markdown",
   "id": "1da60db8",
   "metadata": {},
   "source": [
    "## Summary\n",
    "This notebook introduced the basics of LSTM networks and demonstrated a simple LSTM for sequence classification. For more advanced sequence models, consider exploring GRU or Transformer architectures."
   ]
  }
 ],
 "metadata": {
  "kernelspec": {
   "display_name": "llm-lab",
   "language": "python",
   "name": "python3"
  },
  "language_info": {
   "codemirror_mode": {
    "name": "ipython",
    "version": 3
   },
   "file_extension": ".py",
   "mimetype": "text/x-python",
   "name": "python",
   "nbconvert_exporter": "python",
   "pygments_lexer": "ipython3",
   "version": "3.10.16"
  }
 },
 "nbformat": 4,
 "nbformat_minor": 5
}
