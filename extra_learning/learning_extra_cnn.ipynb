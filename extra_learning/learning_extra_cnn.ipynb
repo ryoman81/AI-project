{
 "cells": [
  {
   "cell_type": "markdown",
   "id": "d4aace9d",
   "metadata": {},
   "source": [
    "# Simple CNN with PyTorch\n",
    "This notebook demonstrates how to implement a simple Convolutional Neural Network (CNN) using PyTorch and perform a forward pass. All code is thoroughly commented and suitable for beginners."
   ]
  },
  {
   "cell_type": "code",
   "execution_count": 1,
   "id": "82240780",
   "metadata": {},
   "outputs": [],
   "source": [
    "# Import necessary libraries\n",
    "import torch\n",
    "import torch.nn as nn\n",
    "import torch.nn.functional as F"
   ]
  },
  {
   "cell_type": "markdown",
   "id": "532a92be",
   "metadata": {},
   "source": [
    "## Define a Simple CNN Model\n",
    "This model includes:\n",
    "- Two convolutional layers (Conv2d)\n",
    "- One fully connected layer (Linear)\n",
    "- ReLU activation function\n",
    "- Max pooling layer (MaxPool2d)"
   ]
  },
  {
   "cell_type": "code",
   "execution_count": 2,
   "id": "777771dd",
   "metadata": {},
   "outputs": [],
   "source": [
    "class SimpleCNN(nn.Module):\n",
    "    def __init__(self):\n",
    "        super().__init__()\n",
    "        # First convolutional layer: input channels 1, output channels 8, kernel size 3x3\n",
    "        self.conv1 = nn.Conv2d(in_channels=1, out_channels=8, kernel_size=3, padding=1)\n",
    "        # Second convolutional layer: input channels 8, output channels 16, kernel size 3x3\n",
    "        self.conv2 = nn.Conv2d(in_channels=8, out_channels=16, kernel_size=3, padding=1)\n",
    "        # Fully connected layer: input 16*7*7, output 10 (assuming 10 classes)\n",
    "        self.fc = nn.Linear(16 * 7 * 7, 10)\n",
    "\n",
    "    def forward(self, x):\n",
    "        # Input x: (batch_size, 1, 28, 28)\n",
    "        x = F.relu(self.conv1(x))  # (batch_size, 8, 28, 28)\n",
    "        x = F.max_pool2d(x, 2)     # (batch_size, 8, 14, 14)\n",
    "        x = F.relu(self.conv2(x))  # (batch_size, 16, 14, 14)\n",
    "        x = F.max_pool2d(x, 2)     # (batch_size, 16, 7, 7)\n",
    "        x = x.view(x.size(0), -1)  # Flatten to (batch_size, 16*7*7)\n",
    "        x = self.fc(x)             # (batch_size, 10)\n",
    "        return x"
   ]
  },
  {
   "cell_type": "markdown",
   "id": "51ab6162",
   "metadata": {},
   "source": [
    "## Build the Model and Generate Random Input\n",
    "We will create a model instance and use a randomly generated tensor to simulate a grayscale image (28x28)."
   ]
  },
  {
   "cell_type": "code",
   "execution_count": 3,
   "id": "1b22d422",
   "metadata": {},
   "outputs": [],
   "source": [
    "# Create model instance\n",
    "model = SimpleCNN()\n",
    "\n",
    "# Randomly generate a batch of input data, shape: (batch_size, channels, height, width)\n",
    "batch_size = 1\n",
    "x = torch.randn(batch_size, 1, 28, 28)"
   ]
  },
  {
   "cell_type": "markdown",
   "id": "b59362f9",
   "metadata": {},
   "source": [
    "## Forward Pass\n",
    "Feed the input data into the model to get the output."
   ]
  },
  {
   "cell_type": "code",
   "execution_count": 4,
   "id": "037cda19",
   "metadata": {},
   "outputs": [
    {
     "name": "stdout",
     "output_type": "stream",
     "text": [
      "Output shape: torch.Size([1, 10])\n",
      "Output content: tensor([[ 0.0184, -0.2120,  0.2494,  0.0623,  0.3244,  0.0037, -0.0372, -0.3188,\n",
      "          0.2606,  0.5300]], grad_fn=<AddmmBackward0>)\n"
     ]
    }
   ],
   "source": [
    "# Forward pass\n",
    "output = model(x)\n",
    "print(\"Output shape:\", output.shape)\n",
    "print(\"Output content:\", output)"
   ]
  },
  {
   "cell_type": "markdown",
   "id": "484e5fd6",
   "metadata": {},
   "source": [
    "---\n",
    "This notebook demonstrates how to implement a simple CNN with PyTorch and perform a forward pass."
   ]
  }
 ],
 "metadata": {
  "kernelspec": {
   "display_name": "llm-lab",
   "language": "python",
   "name": "python3"
  },
  "language_info": {
   "codemirror_mode": {
    "name": "ipython",
    "version": 3
   },
   "file_extension": ".py",
   "mimetype": "text/x-python",
   "name": "python",
   "nbconvert_exporter": "python",
   "pygments_lexer": "ipython3",
   "version": "3.10.16"
  }
 },
 "nbformat": 4,
 "nbformat_minor": 5
}
