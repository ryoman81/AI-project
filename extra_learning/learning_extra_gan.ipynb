{
 "cells": [
  {
   "cell_type": "markdown",
   "id": "9e8f56b9",
   "metadata": {},
   "source": [
    "# Simple Generative Adversarial Network (GAN) Example with PyTorch\n",
    "This notebook introduces the basic concept of GANs, a popular class of generative models. It provides a minimal example suitable for beginners, with detailed explanations and code comments."
   ]
  },
  {
   "cell_type": "markdown",
   "id": "b7b780e8",
   "metadata": {},
   "source": [
    "## What is a GAN?\n",
    "A Generative Adversarial Network (GAN) consists of two neural networks: a generator and a discriminator. The generator tries to create data that looks real, while the discriminator tries to distinguish between real and fake data. They are trained together in a game-theoretic setup.\n",
    "\n",
    "Key concepts:\n",
    "- **Generator**: Produces fake data from random noise.\n",
    "- **Discriminator**: Tries to tell real data from fake data.\n",
    "- **Adversarial training**: Both networks improve by competing with each other."
   ]
  },
  {
   "cell_type": "markdown",
   "id": "a26dc4b6",
   "metadata": {},
   "source": [
    "## Minimal Example: 1D GAN\n",
    "We use a simple 1D example to illustrate the core idea. (For real images, the process is similar but with more complex networks.)"
   ]
  },
  {
   "cell_type": "code",
   "execution_count": 1,
   "id": "f990b891",
   "metadata": {},
   "outputs": [
    {
     "data": {
      "image/png": "[encoded data removed]",
      "text/plain": [
       "<Figure size 640x480 with 1 Axes>"
      ]
     },
     "metadata": {},
     "output_type": "display_data"
    }
   ],
   "source": [
    "import torch\n",
    "import torch.nn as nn\n",
    "import torch.optim as optim\n",
    "import matplotlib.pyplot as plt\n",
    "\n",
    "# Real data: samples from a normal distribution\n",
    "real_data = torch.randn(100, 1) * 1.5 + 2\n",
    "\n",
    "# Generator: simple linear model\n",
    "class Generator(nn.Module):\n",
    "    def __init__(self):\n",
    "        super().__init__()\n",
    "        self.fc = nn.Linear(1, 1)\n",
    "    def forward(self, z):\n",
    "        return self.fc(z)\n",
    "\n",
    "# Discriminator: simple linear model\n",
    "class Discriminator(nn.Module):\n",
    "    def __init__(self):\n",
    "        super().__init__()\n",
    "        self.fc = nn.Linear(1, 1)\n",
    "    def forward(self, x):\n",
    "        return torch.sigmoid(self.fc(x))\n",
    "\n",
    "gen = Generator()\n",
    "disc = Discriminator()\n",
    "\n",
    "loss_fn = nn.BCELoss()\n",
    "gen_opt = optim.Adam(gen.parameters(), lr=0.01)\n",
    "disc_opt = optim.Adam(disc.parameters(), lr=0.01)\n",
    "\n",
    "# Training loop (very minimal, for illustration)\n",
    "for epoch in range(200):\n",
    "    # Train discriminator\n",
    "    z = torch.randn(16, 1)\n",
    "    fake = gen(z)\n",
    "    real = real_data[torch.randint(0, 100, (16,))]\n",
    "    disc_loss = loss_fn(disc(real), torch.ones(16, 1)) + \\\n",
    "                loss_fn(disc(fake.detach()), torch.zeros(16, 1))\n",
    "    disc_opt.zero_grad()\n",
    "    disc_loss.backward()\n",
    "    disc_opt.step()\n",
    "    # Train generator\n",
    "    fake = gen(z)\n",
    "    gen_loss = loss_fn(disc(fake), torch.ones(16, 1))\n",
    "    gen_opt.zero_grad()\n",
    "    gen_loss.backward()\n",
    "    gen_opt.step()\n",
    "\n",
    "# Plot results\n",
    "z = torch.randn(100, 1)\n",
    "fake_samples = gen(z).detach().numpy()\n",
    "plt.hist(real_data.numpy(), bins=20, alpha=0.5, label='Real')\n",
    "plt.hist(fake_samples, bins=20, alpha=0.5, label='Fake (Generated)')\n",
    "plt.legend()\n",
    "plt.title('GAN: Real vs Generated Data (1D Example)')\n",
    "plt.show()"
   ]
  },
  {
   "cell_type": "markdown",
   "id": "e18e70fd",
   "metadata": {},
   "source": [
    "## Summary\n",
    "This notebook provides a minimal illustration of the GAN concept. Real GANs for images use deep neural networks, but the core idea is the same: a generator and discriminator compete to improve data generation quality."
   ]
  }
 ],
 "metadata": {
  "kernelspec": {
   "display_name": "llm-lab",
   "language": "python",
   "name": "python3"
  },
  "language_info": {
   "codemirror_mode": {
    "name": "ipython",
    "version": 3
   },
   "file_extension": ".py",
   "mimetype": "text/x-python",
   "name": "python",
   "nbconvert_exporter": "python",
   "pygments_lexer": "ipython3",
   "version": "3.10.16"
  }
 },
 "nbformat": 4,
 "nbformat_minor": 5
}
