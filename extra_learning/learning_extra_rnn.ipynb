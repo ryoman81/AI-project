{
 "cells": [
  {
   "cell_type": "markdown",
   "id": "9fdc0270",
   "metadata": {},
   "source": [
    "# Simple Recurrent Neural Network (RNN) Example with PyTorch\n",
    "This notebook introduces the fundamental concepts of Recurrent Neural Networks (RNNs) and demonstrates a minimal RNN model using PyTorch. The example is suitable for beginners and includes detailed explanations."
   ]
  },
  {
   "cell_type": "markdown",
   "id": "a59994b5",
   "metadata": {},
   "source": [
    "## What is a Recurrent Neural Network (RNN)?\n",
    "RNNs are a class of neural networks designed for sequential data. They maintain a hidden state that is updated at each time step, allowing them to capture temporal dependencies in sequences such as text, time series, or speech.\n",
    "\n",
    "Key concepts:\n",
    "- **Sequence**: An ordered set of data points (e.g., words in a sentence).\n",
    "- **Hidden State**: Memory that carries information across time steps.\n",
    "- **Input**: Data at each time step.\n",
    "- **Output**: Prediction at each time step or after the sequence."
   ]
  },
  {
   "cell_type": "markdown",
   "id": "1bfa1433",
   "metadata": {},
   "source": [
    "## Minimal RNN Example: Sequence Classification\n",
    "We will use a simple RNN to classify sequences. For demonstration, we use random data."
   ]
  },
  {
   "cell_type": "code",
   "execution_count": 1,
   "id": "51f2f303",
   "metadata": {},
   "outputs": [],
   "source": [
    "import torch\n",
    "import torch.nn as nn\n",
    "\n",
    "# Define a simple RNN model\n",
    "class SimpleRNN(nn.Module):\n",
    "    def __init__(self, input_size, hidden_size, output_size):\n",
    "        super().__init__()\n",
    "        self.rnn = nn.RNN(input_size, hidden_size, batch_first=True)\n",
    "        self.fc = nn.Linear(hidden_size, output_size)\n",
    "    def forward(self, x):\n",
    "        # x: (batch_size, seq_len, input_size)\n",
    "        out, h_n = self.rnn(x)  # out: (batch_size, seq_len, hidden_size)\n",
    "        out = out[:, -1, :]     # Take the output at the last time step\n",
    "        out = self.fc(out)      # (batch_size, output_size)\n",
    "        return out"
   ]
  },
  {
   "cell_type": "markdown",
   "id": "f4c6d84c",
   "metadata": {},
   "source": [
    "## Build the Model and Generate Random Input\n",
    "We will create a model instance and use a randomly generated tensor to simulate a batch of sequences."
   ]
  },
  {
   "cell_type": "code",
   "execution_count": 2,
   "id": "d0555192",
   "metadata": {},
   "outputs": [],
   "source": [
    "# Model parameters\n",
    "input_size = 5   # Number of features per time step\n",
    "hidden_size = 8  # Size of the RNN hidden state\n",
    "output_size = 2  # Number of classes\n",
    "seq_len = 7      # Length of each sequence\n",
    "batch_size = 3   # Number of sequences in a batch\n",
    "\n",
    "# Create model instance\n",
    "model = SimpleRNN(input_size, hidden_size, output_size)\n",
    "\n",
    "# Randomly generate a batch of input data\n",
    "x = torch.randn(batch_size, seq_len, input_size)"
   ]
  },
  {
   "cell_type": "markdown",
   "id": "431e2685",
   "metadata": {},
   "source": [
    "## Forward Pass\n",
    "Feed the input data into the model to get the output."
   ]
  },
  {
   "cell_type": "code",
   "execution_count": 3,
   "id": "2259af09",
   "metadata": {},
   "outputs": [
    {
     "name": "stdout",
     "output_type": "stream",
     "text": [
      "Output shape: torch.Size([3, 2])\n",
      "Output content:\n",
      " tensor([[ 0.4388, -0.4799],\n",
      "        [-0.4498,  0.3830],\n",
      "        [-0.1553, -0.1742]], grad_fn=<AddmmBackward0>)\n"
     ]
    }
   ],
   "source": [
    "# Forward pass\n",
    "output = model(x)\n",
    "print(\"Output shape:\", output.shape)\n",
    "print(\"Output content:\\n\", output)"
   ]
  },
  {
   "cell_type": "markdown",
   "id": "c8c9ae33",
   "metadata": {},
   "source": [
    "## Summary\n",
    "This notebook introduced the basics of RNNs and demonstrated a simple RNN for sequence classification. For more advanced sequence models, consider exploring LSTM, GRU, or Transformer architectures."
   ]
  }
 ],
 "metadata": {
  "kernelspec": {
   "display_name": "llm-lab",
   "language": "python",
   "name": "python3"
  },
  "language_info": {
   "codemirror_mode": {
    "name": "ipython",
    "version": 3
   },
   "file_extension": ".py",
   "mimetype": "text/x-python",
   "name": "python",
   "nbconvert_exporter": "python",
   "pygments_lexer": "ipython3",
   "version": "3.10.16"
  }
 },
 "nbformat": 4,
 "nbformat_minor": 5
}
